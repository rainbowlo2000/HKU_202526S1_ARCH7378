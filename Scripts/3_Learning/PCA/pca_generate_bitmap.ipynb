{
 "cells": [
  {
   "cell_type": "code",
   "execution_count": 1,
   "id": "f500442f-4e52-4edf-a392-55b2b1c47d5d",
   "metadata": {},
   "outputs": [],
   "source": [
    "import pandas as pd\n",
    "\n",
    "# prerequisites\n",
    "import torch\n",
    "th = torch\n",
    "import torch.nn as nn\n",
    "import torch.nn.functional as F\n",
    "import torch.optim as optim\n",
    "import os\n",
    "import matplotlib.pyplot as plt\n",
    "plt.rcParams['font.family'] = 'serif'\n",
    "import numpy as np\n",
    "\n",
    "from torch.utils.data import TensorDataset, DataLoader\n",
    "from sklearn.model_selection import train_test_split\n",
    "from sklearn.preprocessing import MinMaxScaler\n",
    "to_tensor = lambda x: torch.tensor(x).to(torch.float32)\n",
    "\n",
    "import pandas as pd"
   ]
  },
  {
   "cell_type": "markdown",
   "id": "a2a5e93f-942e-4dd3-9888-9af87c91b27f",
   "metadata": {},
   "source": [
    "# Load data"
   ]
  },
  {
   "cell_type": "code",
   "execution_count": 2,
   "id": "68ac513a-6cf0-4fa8-9396-b55c08ffd7c9",
   "metadata": {},
   "outputs": [],
   "source": [
    "import numpy as np\n",
    "import matplotlib.pyplot as plt\n",
    "import matplotlib.gridspec as gridspec\n",
    "\n",
    "def display_image_grid(images, nrows, ncols, res):\n",
    "    \"\"\"\n",
    "    Display images in a grid layout using gridspec.\n",
    "    \n",
    "    Parameters:\n",
    "    - images: numpy array of shape (n, res, res)\n",
    "    - nrows: number of rows in the grid\n",
    "    - ncols: number of columns in the grid\n",
    "    - res: resolution of each image\n",
    "    \"\"\"\n",
    "    fig = plt.figure(figsize=(ncols * 2, nrows * 2))\n",
    "    gs = gridspec.GridSpec(nrows, ncols, wspace=0.1, hspace=0.1)\n",
    "\n",
    "    for i in range(nrows):\n",
    "        for j in range(ncols):\n",
    "            idx = i * ncols + j\n",
    "            if idx < images.shape[0]:\n",
    "                ax = fig.add_subplot(gs[i, j])\n",
    "                ax.imshow(images[idx], cmap='binary', origin='lower')\n",
    "                ax.axis('off')\n",
    "            else:\n",
    "                ax = fig.add_subplot(gs[i, j])\n",
    "                ax.axis('off')\n",
    "    \n",
    "    plt.show()\n",
    "\n",
    "# Example usage:\n",
    "# Assuming you have an array of images of shape (n, res, res)\n"
   ]
  },
  {
   "cell_type": "code",
   "execution_count": 3,
   "id": "4b77409f-226d-4e10-b6cd-286f2f32eafd",
   "metadata": {},
   "outputs": [],
   "source": [
    "fp = '../../../Datasets/weave_bitmap/9ctrlpts_full_symm.csv'"
   ]
  },
  {
   "cell_type": "code",
   "execution_count": 4,
   "id": "7a1dcf34-2d63-4c67-aeba-54bffe40d73a",
   "metadata": {},
   "outputs": [],
   "source": [
    "data_raw_0 = pd.read_csv(fp)"
   ]
  },
  {
   "cell_type": "code",
   "execution_count": 5,
   "id": "c4890f24-7dd6-4b2e-997a-6fab4d84f3e5",
   "metadata": {},
   "outputs": [
    {
     "data": {
      "text/html": [
       "<div>\n",
       "<style scoped>\n",
       "    .dataframe tbody tr th:only-of-type {\n",
       "        vertical-align: middle;\n",
       "    }\n",
       "\n",
       "    .dataframe tbody tr th {\n",
       "        vertical-align: top;\n",
       "    }\n",
       "\n",
       "    .dataframe thead th {\n",
       "        text-align: right;\n",
       "    }\n",
       "</style>\n",
       "<table border=\"1\" class=\"dataframe\">\n",
       "  <thead>\n",
       "    <tr style=\"text-align: right;\">\n",
       "      <th></th>\n",
       "      <th>id</th>\n",
       "      <th>cp_0</th>\n",
       "      <th>cp_1</th>\n",
       "      <th>cp_2</th>\n",
       "      <th>cp_3</th>\n",
       "      <th>cp_4</th>\n",
       "      <th>cp_5</th>\n",
       "      <th>cp_6</th>\n",
       "      <th>cp_7</th>\n",
       "      <th>cp_8</th>\n",
       "      <th>...</th>\n",
       "      <th>bm_23_18</th>\n",
       "      <th>bm_23_19</th>\n",
       "      <th>bm_23_20</th>\n",
       "      <th>bm_23_21</th>\n",
       "      <th>bm_23_22</th>\n",
       "      <th>bm_23_23</th>\n",
       "      <th>obj_float</th>\n",
       "      <th>obj_int</th>\n",
       "      <th>obj_float_w</th>\n",
       "      <th>var_float</th>\n",
       "    </tr>\n",
       "  </thead>\n",
       "  <tbody>\n",
       "    <tr>\n",
       "      <th>0</th>\n",
       "      <td>2024-06-02_12-57-01.jpg</td>\n",
       "      <td>20.575</td>\n",
       "      <td>7.775</td>\n",
       "      <td>20.575</td>\n",
       "      <td>7.775</td>\n",
       "      <td>0.325</td>\n",
       "      <td>7.775</td>\n",
       "      <td>20.575</td>\n",
       "      <td>7.775</td>\n",
       "      <td>20.575</td>\n",
       "      <td>...</td>\n",
       "      <td>1.0</td>\n",
       "      <td>1.0</td>\n",
       "      <td>0.0</td>\n",
       "      <td>0.0</td>\n",
       "      <td>0.0</td>\n",
       "      <td>0.0</td>\n",
       "      <td>0.078451</td>\n",
       "      <td>0.658731</td>\n",
       "      <td>0.192072</td>\n",
       "      <td>8.040908</td>\n",
       "    </tr>\n",
       "    <tr>\n",
       "      <th>1</th>\n",
       "      <td>2024-06-02_12-58-17.jpg</td>\n",
       "      <td>3.200</td>\n",
       "      <td>6.750</td>\n",
       "      <td>3.200</td>\n",
       "      <td>6.750</td>\n",
       "      <td>10.525</td>\n",
       "      <td>6.750</td>\n",
       "      <td>3.200</td>\n",
       "      <td>6.750</td>\n",
       "      <td>3.200</td>\n",
       "      <td>...</td>\n",
       "      <td>1.0</td>\n",
       "      <td>0.0</td>\n",
       "      <td>0.0</td>\n",
       "      <td>0.0</td>\n",
       "      <td>1.0</td>\n",
       "      <td>0.0</td>\n",
       "      <td>0.190347</td>\n",
       "      <td>0.454870</td>\n",
       "      <td>0.784248</td>\n",
       "      <td>12.313580</td>\n",
       "    </tr>\n",
       "    <tr>\n",
       "      <th>2</th>\n",
       "      <td>2024-06-02_12-58-22.jpg</td>\n",
       "      <td>0.150</td>\n",
       "      <td>6.525</td>\n",
       "      <td>0.150</td>\n",
       "      <td>6.525</td>\n",
       "      <td>3.275</td>\n",
       "      <td>6.525</td>\n",
       "      <td>0.150</td>\n",
       "      <td>6.525</td>\n",
       "      <td>0.150</td>\n",
       "      <td>...</td>\n",
       "      <td>0.0</td>\n",
       "      <td>1.0</td>\n",
       "      <td>1.0</td>\n",
       "      <td>0.0</td>\n",
       "      <td>1.0</td>\n",
       "      <td>0.0</td>\n",
       "      <td>0.279407</td>\n",
       "      <td>0.344641</td>\n",
       "      <td>0.999939</td>\n",
       "      <td>20.087081</td>\n",
       "    </tr>\n",
       "    <tr>\n",
       "      <th>3</th>\n",
       "      <td>2024-06-02_12-58-27.jpg</td>\n",
       "      <td>8.200</td>\n",
       "      <td>2.250</td>\n",
       "      <td>8.200</td>\n",
       "      <td>2.250</td>\n",
       "      <td>6.175</td>\n",
       "      <td>2.250</td>\n",
       "      <td>8.200</td>\n",
       "      <td>2.250</td>\n",
       "      <td>8.200</td>\n",
       "      <td>...</td>\n",
       "      <td>0.0</td>\n",
       "      <td>1.0</td>\n",
       "      <td>1.0</td>\n",
       "      <td>0.0</td>\n",
       "      <td>1.0</td>\n",
       "      <td>0.0</td>\n",
       "      <td>0.434853</td>\n",
       "      <td>0.333720</td>\n",
       "      <td>0.987471</td>\n",
       "      <td>20.138163</td>\n",
       "    </tr>\n",
       "    <tr>\n",
       "      <th>4</th>\n",
       "      <td>2024-06-02_12-58-32.jpg</td>\n",
       "      <td>3.750</td>\n",
       "      <td>0.400</td>\n",
       "      <td>3.750</td>\n",
       "      <td>0.400</td>\n",
       "      <td>8.475</td>\n",
       "      <td>0.400</td>\n",
       "      <td>3.750</td>\n",
       "      <td>0.400</td>\n",
       "      <td>3.750</td>\n",
       "      <td>...</td>\n",
       "      <td>1.0</td>\n",
       "      <td>1.0</td>\n",
       "      <td>0.0</td>\n",
       "      <td>1.0</td>\n",
       "      <td>1.0</td>\n",
       "      <td>1.0</td>\n",
       "      <td>0.232568</td>\n",
       "      <td>0.436358</td>\n",
       "      <td>0.999915</td>\n",
       "      <td>38.818866</td>\n",
       "    </tr>\n",
       "    <tr>\n",
       "      <th>...</th>\n",
       "      <td>...</td>\n",
       "      <td>...</td>\n",
       "      <td>...</td>\n",
       "      <td>...</td>\n",
       "      <td>...</td>\n",
       "      <td>...</td>\n",
       "      <td>...</td>\n",
       "      <td>...</td>\n",
       "      <td>...</td>\n",
       "      <td>...</td>\n",
       "      <td>...</td>\n",
       "      <td>...</td>\n",
       "      <td>...</td>\n",
       "      <td>...</td>\n",
       "      <td>...</td>\n",
       "      <td>...</td>\n",
       "      <td>...</td>\n",
       "      <td>...</td>\n",
       "      <td>...</td>\n",
       "      <td>...</td>\n",
       "      <td>...</td>\n",
       "    </tr>\n",
       "    <tr>\n",
       "      <th>2997</th>\n",
       "      <td>2024-06-02_17-23-40.jpg</td>\n",
       "      <td>18.425</td>\n",
       "      <td>19.825</td>\n",
       "      <td>18.425</td>\n",
       "      <td>19.825</td>\n",
       "      <td>22.250</td>\n",
       "      <td>19.825</td>\n",
       "      <td>18.425</td>\n",
       "      <td>19.825</td>\n",
       "      <td>18.425</td>\n",
       "      <td>...</td>\n",
       "      <td>0.0</td>\n",
       "      <td>0.0</td>\n",
       "      <td>0.0</td>\n",
       "      <td>0.0</td>\n",
       "      <td>0.0</td>\n",
       "      <td>0.0</td>\n",
       "      <td>0.291456</td>\n",
       "      <td>0.288717</td>\n",
       "      <td>0.999010</td>\n",
       "      <td>23.423018</td>\n",
       "    </tr>\n",
       "    <tr>\n",
       "      <th>2998</th>\n",
       "      <td>2024-06-02_17-23-46.jpg</td>\n",
       "      <td>13.425</td>\n",
       "      <td>3.975</td>\n",
       "      <td>13.425</td>\n",
       "      <td>3.975</td>\n",
       "      <td>20.075</td>\n",
       "      <td>3.975</td>\n",
       "      <td>13.425</td>\n",
       "      <td>3.975</td>\n",
       "      <td>13.425</td>\n",
       "      <td>...</td>\n",
       "      <td>0.0</td>\n",
       "      <td>1.0</td>\n",
       "      <td>1.0</td>\n",
       "      <td>0.0</td>\n",
       "      <td>1.0</td>\n",
       "      <td>1.0</td>\n",
       "      <td>0.063023</td>\n",
       "      <td>0.577470</td>\n",
       "      <td>0.186826</td>\n",
       "      <td>6.579665</td>\n",
       "    </tr>\n",
       "    <tr>\n",
       "      <th>2999</th>\n",
       "      <td>2024-06-02_17-23-51.jpg</td>\n",
       "      <td>0.225</td>\n",
       "      <td>17.725</td>\n",
       "      <td>0.225</td>\n",
       "      <td>17.725</td>\n",
       "      <td>19.000</td>\n",
       "      <td>17.725</td>\n",
       "      <td>0.225</td>\n",
       "      <td>17.725</td>\n",
       "      <td>0.225</td>\n",
       "      <td>...</td>\n",
       "      <td>0.0</td>\n",
       "      <td>0.0</td>\n",
       "      <td>0.0</td>\n",
       "      <td>1.0</td>\n",
       "      <td>0.0</td>\n",
       "      <td>0.0</td>\n",
       "      <td>0.247807</td>\n",
       "      <td>0.447288</td>\n",
       "      <td>0.998903</td>\n",
       "      <td>22.100107</td>\n",
       "    </tr>\n",
       "    <tr>\n",
       "      <th>3000</th>\n",
       "      <td>2024-06-02_17-23-56.jpg</td>\n",
       "      <td>6.175</td>\n",
       "      <td>17.725</td>\n",
       "      <td>6.175</td>\n",
       "      <td>17.725</td>\n",
       "      <td>0.675</td>\n",
       "      <td>17.725</td>\n",
       "      <td>6.175</td>\n",
       "      <td>17.725</td>\n",
       "      <td>6.175</td>\n",
       "      <td>...</td>\n",
       "      <td>0.0</td>\n",
       "      <td>0.0</td>\n",
       "      <td>1.0</td>\n",
       "      <td>1.0</td>\n",
       "      <td>0.0</td>\n",
       "      <td>0.0</td>\n",
       "      <td>0.176939</td>\n",
       "      <td>0.522824</td>\n",
       "      <td>0.538924</td>\n",
       "      <td>11.292375</td>\n",
       "    </tr>\n",
       "    <tr>\n",
       "      <th>3001</th>\n",
       "      <td>2024-06-02_17-53-41.jpg</td>\n",
       "      <td>6.175</td>\n",
       "      <td>17.725</td>\n",
       "      <td>6.175</td>\n",
       "      <td>17.725</td>\n",
       "      <td>0.675</td>\n",
       "      <td>17.725</td>\n",
       "      <td>6.175</td>\n",
       "      <td>17.725</td>\n",
       "      <td>6.175</td>\n",
       "      <td>...</td>\n",
       "      <td>0.0</td>\n",
       "      <td>0.0</td>\n",
       "      <td>1.0</td>\n",
       "      <td>1.0</td>\n",
       "      <td>0.0</td>\n",
       "      <td>0.0</td>\n",
       "      <td>0.176939</td>\n",
       "      <td>0.522824</td>\n",
       "      <td>0.538924</td>\n",
       "      <td>11.292375</td>\n",
       "    </tr>\n",
       "  </tbody>\n",
       "</table>\n",
       "<p>3002 rows × 591 columns</p>\n",
       "</div>"
      ],
      "text/plain": [
       "                           id    cp_0    cp_1    cp_2    cp_3    cp_4    cp_5  \\\n",
       "0     2024-06-02_12-57-01.jpg  20.575   7.775  20.575   7.775   0.325   7.775   \n",
       "1     2024-06-02_12-58-17.jpg   3.200   6.750   3.200   6.750  10.525   6.750   \n",
       "2     2024-06-02_12-58-22.jpg   0.150   6.525   0.150   6.525   3.275   6.525   \n",
       "3     2024-06-02_12-58-27.jpg   8.200   2.250   8.200   2.250   6.175   2.250   \n",
       "4     2024-06-02_12-58-32.jpg   3.750   0.400   3.750   0.400   8.475   0.400   \n",
       "...                       ...     ...     ...     ...     ...     ...     ...   \n",
       "2997  2024-06-02_17-23-40.jpg  18.425  19.825  18.425  19.825  22.250  19.825   \n",
       "2998  2024-06-02_17-23-46.jpg  13.425   3.975  13.425   3.975  20.075   3.975   \n",
       "2999  2024-06-02_17-23-51.jpg   0.225  17.725   0.225  17.725  19.000  17.725   \n",
       "3000  2024-06-02_17-23-56.jpg   6.175  17.725   6.175  17.725   0.675  17.725   \n",
       "3001  2024-06-02_17-53-41.jpg   6.175  17.725   6.175  17.725   0.675  17.725   \n",
       "\n",
       "        cp_6    cp_7    cp_8  ...  bm_23_18  bm_23_19  bm_23_20  bm_23_21  \\\n",
       "0     20.575   7.775  20.575  ...       1.0       1.0       0.0       0.0   \n",
       "1      3.200   6.750   3.200  ...       1.0       0.0       0.0       0.0   \n",
       "2      0.150   6.525   0.150  ...       0.0       1.0       1.0       0.0   \n",
       "3      8.200   2.250   8.200  ...       0.0       1.0       1.0       0.0   \n",
       "4      3.750   0.400   3.750  ...       1.0       1.0       0.0       1.0   \n",
       "...      ...     ...     ...  ...       ...       ...       ...       ...   \n",
       "2997  18.425  19.825  18.425  ...       0.0       0.0       0.0       0.0   \n",
       "2998  13.425   3.975  13.425  ...       0.0       1.0       1.0       0.0   \n",
       "2999   0.225  17.725   0.225  ...       0.0       0.0       0.0       1.0   \n",
       "3000   6.175  17.725   6.175  ...       0.0       0.0       1.0       1.0   \n",
       "3001   6.175  17.725   6.175  ...       0.0       0.0       1.0       1.0   \n",
       "\n",
       "      bm_23_22  bm_23_23  obj_float   obj_int  obj_float_w  var_float  \n",
       "0          0.0       0.0   0.078451  0.658731     0.192072   8.040908  \n",
       "1          1.0       0.0   0.190347  0.454870     0.784248  12.313580  \n",
       "2          1.0       0.0   0.279407  0.344641     0.999939  20.087081  \n",
       "3          1.0       0.0   0.434853  0.333720     0.987471  20.138163  \n",
       "4          1.0       1.0   0.232568  0.436358     0.999915  38.818866  \n",
       "...        ...       ...        ...       ...          ...        ...  \n",
       "2997       0.0       0.0   0.291456  0.288717     0.999010  23.423018  \n",
       "2998       1.0       1.0   0.063023  0.577470     0.186826   6.579665  \n",
       "2999       0.0       0.0   0.247807  0.447288     0.998903  22.100107  \n",
       "3000       0.0       0.0   0.176939  0.522824     0.538924  11.292375  \n",
       "3001       0.0       0.0   0.176939  0.522824     0.538924  11.292375  \n",
       "\n",
       "[3002 rows x 591 columns]"
      ]
     },
     "execution_count": 5,
     "metadata": {},
     "output_type": "execute_result"
    }
   ],
   "source": [
    "data_raw_0"
   ]
  },
  {
   "cell_type": "code",
   "execution_count": 6,
   "id": "aa9d2dbd-936c-4abf-847c-ae61ec83c72f",
   "metadata": {},
   "outputs": [],
   "source": [
    "dim = 24\n",
    "# Make column names\n",
    "cols_pxs = ['bm_{}_{}'.format(int(_y), int(_x)) for _y in range(dim) for _x in range(dim)]\n",
    "\n",
    "pxs = torch.tensor(data_raw_0[cols_pxs].values).reshape(-1, dim, dim)\n",
    "data_raw = data_raw_0.drop_duplicates(subset=cols_pxs)"
   ]
  },
  {
   "cell_type": "code",
   "execution_count": 7,
   "id": "2fb3a226-2deb-409a-bf8f-15326bafb9a4",
   "metadata": {},
   "outputs": [],
   "source": [
    "n_cps = 9\n",
    "cols_cps = ['cp_{}'.format(int(_i)) for _i in range(n_cps)]\n",
    "cps =  torch.tensor(data_raw[cols_cps].values).reshape(-1, len(cols_cps))"
   ]
  },
  {
   "cell_type": "code",
   "execution_count": 8,
   "id": "a22d3e62-bc55-474b-a8cd-84c101fcd5c0",
   "metadata": {},
   "outputs": [],
   "source": [
    "fps = data_raw['id'].values"
   ]
  },
  {
   "cell_type": "code",
   "execution_count": 9,
   "id": "2ea3261a-f07e-46af-bd22-0b9af62742ae",
   "metadata": {},
   "outputs": [
    {
     "data": {
      "text/plain": [
       "0       2024-06-02_12-57-01.jpg\n",
       "1       2024-06-02_12-58-17.jpg\n",
       "2       2024-06-02_12-58-22.jpg\n",
       "3       2024-06-02_12-58-27.jpg\n",
       "4       2024-06-02_12-58-32.jpg\n",
       "                 ...           \n",
       "2993    2024-06-02_17-23-19.jpg\n",
       "2994    2024-06-02_17-23-24.jpg\n",
       "2995    2024-06-02_17-23-30.jpg\n",
       "2997    2024-06-02_17-23-40.jpg\n",
       "2998    2024-06-02_17-23-46.jpg\n",
       "Name: id, Length: 2624, dtype: object"
      ]
     },
     "execution_count": 9,
     "metadata": {},
     "output_type": "execute_result"
    }
   ],
   "source": [
    "data_raw['id']"
   ]
  },
  {
   "cell_type": "code",
   "execution_count": 11,
   "id": "bedb8c15-291f-429e-8b17-0c403ca20e41",
   "metadata": {},
   "outputs": [],
   "source": [
    "# Various metrics\n",
    "# obj_int: interlacing %\n",
    "# obj_float: float %\n",
    "cols_objs = ['obj_int', 'obj_float', 'var_float', 'obj_float_w']\n",
    "objs = torch.tensor(data_raw[cols_objs].values).reshape(-1, len(cols_objs))"
   ]
  },
  {
   "cell_type": "code",
   "execution_count": 12,
   "id": "babd3568-f3c4-4b1d-ad48-6e26ce4af9a5",
   "metadata": {},
   "outputs": [],
   "source": [
    "# Filter out bad desings by arbitrary threshold on objectives\n",
    "max_pc_interlace = 0.5\n",
    "max_pc_float = 0.2\n",
    "\n",
    "mask = np.logical_and(objs[:,0] >=0.0, objs[:,0] <= max_pc_interlace,)\n",
    "mask = np.logical_and(mask,objs[:,1] <= max_pc_float).to(th.bool)\n",
    "pxs_good = pxs[np.arange(objs.shape[0])[mask]]"
   ]
  },
  {
   "cell_type": "markdown",
   "id": "dda436f6-ba1f-4d6d-b364-b0f1171ae236",
   "metadata": {},
   "source": [
    "## Quick visualisation"
   ]
  },
  {
   "cell_type": "code",
   "execution_count": 13,
   "id": "8db28ec1-66b7-443d-b540-d9dd4fc67b8c",
   "metadata": {},
   "outputs": [
    {
     "data": {
      "image/png": "[encoded data removed]",
      "text/plain": [
       "<Figure size 800x800 with 16 Axes>"
      ]
     },
     "metadata": {},
     "output_type": "display_data"
    }
   ],
   "source": [
    "pxs_good.shape\n",
    "nrows = ncols = 4 # Number of rows in the grid\n",
    " # Number of columns in the grid\n",
    "n_to_show = nrows * ncols \n",
    "\n",
    "display_image_grid(pxs_good[0:n_to_show,:], nrows, ncols, dim)"
   ]
  },
  {
   "cell_type": "markdown",
   "id": "84445084-4395-4f1e-a2d6-278b283a22a4",
   "metadata": {},
   "source": [
    "# Dimensionality reduction"
   ]
  },
  {
   "cell_type": "code",
   "execution_count": 14,
   "id": "a0f40882-0f8c-4515-b76d-c28c92cbca17",
   "metadata": {},
   "outputs": [
    {
     "data": {
      "image/png": "[encoded data removed]",
      "text/plain": [
       "<Figure size 1000x600 with 1 Axes>"
      ]
     },
     "metadata": {},
     "output_type": "display_data"
    }
   ],
   "source": [
    "# Apply PCA-based dimensionality reduciton\n",
    "from sklearn.decomposition import PCA\n",
    "from sklearn.preprocessing import StandardScaler\n",
    "\n",
    "pca = PCA()\n",
    "scaler = StandardScaler()\n",
    "\n",
    "data_to_pca = pxs_good\n",
    "data_to_pca = data_to_pca.reshape(data_to_pca.shape[0],-1)\n",
    "\n",
    "data_to_pca = scaler.fit_transform(data_to_pca)\n",
    "principal_components = pca.fit_transform(data_to_pca.reshape(data_to_pca.shape[0],-1))\n",
    "explained_variance_ratio = pca.explained_variance_ratio_\n",
    "\n",
    "plt.figure(figsize=(10, 6))\n",
    "plt.plot(np.cumsum(explained_variance_ratio), marker='o', linestyle='--')\n",
    "plt.title('Explained Variance by Principal Components')\n",
    "plt.xlabel('Number of Principal Components')\n",
    "plt.ylabel('Cumulative Explained Variance')\n",
    "plt.grid()\n",
    "plt.show()\n"
   ]
  },
  {
   "cell_type": "code",
   "execution_count": null,
   "id": "1478be06-1221-4e2a-acea-3c1906fcef81",
   "metadata": {},
   "outputs": [],
   "source": []
  },
  {
   "cell_type": "code",
   "execution_count": 15,
   "id": "2f8430cd-6364-432a-a77b-f409705219a0",
   "metadata": {},
   "outputs": [],
   "source": [
    "data_to_pca = pxs_good.reshape(pxs_good.shape[0],-1)\n",
    "\n",
    "scaler = StandardScaler()\n",
    "_data_to_pca = scaler.fit_transform(data_to_pca)\n",
    "\n",
    "n_components = 10\n",
    "pca = PCA(n_components=n_components)\n",
    "data_to_pca_reduced = pca.fit_transform(_data_to_pca)\n",
    "\n",
    "# Transform back to the original dimensions\n",
    "data_to_pca_restored = pca.inverse_transform(data_to_pca_reduced)\n",
    "\n",
    "# Unscale the data (reverse standardization)\n",
    "data_to_pca_ = scaler.inverse_transform(data_to_pca_restored)"
   ]
  },
  {
   "cell_type": "markdown",
   "id": "93ce06bf-5b0e-4590-96df-d9cc52922db9",
   "metadata": {},
   "source": [
    "## Visualise reconstruction designs"
   ]
  },
  {
   "cell_type": "code",
   "execution_count": 18,
   "id": "9ca02e34-7055-419d-865b-5a1d577bfee7",
   "metadata": {},
   "outputs": [
    {
     "data": {
      "image/png": "[encoded data removed]",
      "text/plain": [
       "<Figure size 800x800 with 16 Axes>"
      ]
     },
     "metadata": {},
     "output_type": "display_data"
    }
   ],
   "source": [
    "nrows = ncols = 4 # Number of rows in the grid\n",
    " # Number of columns in the grid\n",
    "n_to_show = nrows * ncols \n",
    "mean_reduced = np.mean(data_to_pca_reduced, axis=0)\n",
    "data_to_pca__ = data_to_pca_.copy()\n",
    "threshold = 0.5\n",
    "data_to_pca__[data_to_pca__ < threshold] = 0.\n",
    "data_to_pca__[data_to_pca__ > threshold] = 1.\n",
    "\n",
    "display_image_grid(data_to_pca__.reshape(-1,24,24)[0:n_to_show,:], nrows, ncols, dim)"
   ]
  },
  {
   "cell_type": "markdown",
   "id": "9398de15-de22-4163-ad6b-7814a6eb6132",
   "metadata": {},
   "source": [
    "# Generate new designs using sliders"
   ]
  },
  {
   "cell_type": "code",
   "execution_count": 21,
   "id": "f5d06c7c-5603-46cf-b585-dc98726f6d86",
   "metadata": {},
   "outputs": [
    {
     "data": {
      "text/plain": [
       "24.0"
      ]
     },
     "execution_count": 21,
     "metadata": {},
     "output_type": "execute_result"
    }
   ],
   "source": [
    "576**0.5"
   ]
  },
  {
   "cell_type": "code",
   "execution_count": 19,
   "id": "dde7e3e4-e641-46d6-a75a-14b8b5f5d61b",
   "metadata": {},
   "outputs": [
    {
     "data": {
      "application/vnd.jupyter.widget-view+json": {
       "model_id": "4d285b8d95684ae3ab354e7600554da9",
       "version_major": 2,
       "version_minor": 0
      },
      "text/plain": [
       "Output()"
      ]
     },
     "metadata": {},
     "output_type": "display_data"
    },
    {
     "data": {
      "application/vnd.jupyter.widget-view+json": {
       "model_id": "6ccaaa0a8829419b945093a13d472588",
       "version_major": 2,
       "version_minor": 0
      },
      "text/plain": [
       "VBox(children=(FloatSlider(value=0.0, description='PC1', max=5.0, min=-5.0), FloatSlider(value=0.0, descriptio…"
      ]
     },
     "metadata": {},
     "output_type": "display_data"
    },
    {
     "data": {
      "application/vnd.jupyter.widget-view+json": {
       "model_id": "85eb6f98720143828c543e2c28fc9b6a",
       "version_major": 2,
       "version_minor": 0
      },
      "text/plain": [
       "VBox(children=(FloatSlider(value=0.5, description='threshold', max=1.0),))"
      ]
     },
     "metadata": {},
     "output_type": "display_data"
    }
   ],
   "source": [
    "# Genera\n",
    "import ipywidgets as widgets\n",
    "from IPython.display import display\n",
    "\n",
    "scaler = StandardScaler()\n",
    "_data_to_pca = scaler.fit_transform(data_to_pca)\n",
    "\n",
    "n_components = 10\n",
    "pca = PCA(n_components=n_components)\n",
    "data_to_pca_reduced = pca.fit_transform(_data_to_pca)\n",
    "mean_reduced = np.mean(data_to_pca_reduced, axis=0)\n",
    "\n",
    "def generate_data(*coefficients):\n",
    "    new_data_reduced = (mean_reduced + np.array(coefficients)).reshape(1,- 1)\n",
    "    new_data_standardized = pca.inverse_transform(new_data_reduced)\n",
    "    new_data = scaler.inverse_transform(new_data_standardized)\n",
    "    return new_data\n",
    "\n",
    "# Function to update the image based on slider values\n",
    "def update_image(**kwargs):\n",
    "    coefficients = [kwargs[f'pc{i}'] for i in range(n_components)]\n",
    "    threshold = kwargs.get('threshold')\n",
    "    new_data = generate_data(*coefficients)\n",
    "    \n",
    "    new_image = new_data.reshape(24, 24)\n",
    "    new_image_ = new_image.copy()\n",
    "    new_image_[new_image_< threshold] = 0.\n",
    "    new_image_[new_image_>=threshold]=1.\n",
    "    plt.figure(figsize=(5, 5))\n",
    "    plt.imshow(new_image_, cmap='gray')\n",
    "    plt.title('Generated Image')\n",
    "    plt.axis('off')\n",
    "    plt.show()\n",
    "\n",
    "# Create sliders for the top 8 principal components\n",
    "sliders = {f'pc{i}': widgets.FloatSlider(min=-5, max=5, step=0.1, value=0, description=f'PC{i+1}') for i in range(n_components)}\n",
    "sliders.update({f'threshold': widgets.FloatSlider(min=0., max=1., step=0.1, value=0.5, description=f'threshold')})\n",
    "\n",
    "# Create interactive output\n",
    "ui = widgets.interactive_output(update_image, sliders)\n",
    "display(ui)\n",
    "\n",
    "# Display sliders\n",
    "display(widgets.VBox([sliders[f'pc{i}'] for i in range(n_components)]))\n",
    "display(widgets.VBox([sliders[f'threshold']]))"
   ]
  },
  {
   "cell_type": "code",
   "execution_count": null,
   "id": "d8e0c5f9-6cd1-4389-9008-7c2fd2059342",
   "metadata": {},
   "outputs": [],
   "source": []
  }
 ],
 "metadata": {
  "kernelspec": {
   "display_name": "Python 3 (ipykernel)",
   "language": "python",
   "name": "python3"
  },
  "language_info": {
   "codemirror_mode": {
    "name": "ipython",
    "version": 3
   },
   "file_extension": ".py",
   "mimetype": "text/x-python",
   "name": "python",
   "nbconvert_exporter": "python",
   "pygments_lexer": "ipython3",
   "version": "3.9.19"
  }
 },
 "nbformat": 4,
 "nbformat_minor": 5
}
